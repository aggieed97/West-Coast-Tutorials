{
 "cells": [
  {
   "cell_type": "code",
   "execution_count": 23,
   "metadata": {},
   "outputs": [],
   "source": [
    "# binary and multi-class Keras\n",
    "\n",
    "import numpy as np\n",
    "import pandas as pd\n",
    "\n",
    "from sklearn.preprocessing import StandardScaler\n",
    "from sklearn.model_selection import train_test_split\n",
    "from sklearn.datasets import load_iris, load_breast_cancer\n",
    "\n",
    "from keras.models import Sequential\n",
    "from keras.layers import Dense, Dropout\n",
    "from keras.utils import to_categorical # need one hot encoded matrix for neural networks\n",
    "\n",
    "import matplotlib.pyplot as plt\n",
    "%matplotlib inline"
   ]
  },
  {
   "cell_type": "markdown",
   "metadata": {},
   "source": [
    "##### Log Loss function\n",
    "−(y*log(p)+(1−y)log(1−p))"
   ]
  },
  {
   "cell_type": "code",
   "execution_count": 4,
   "metadata": {},
   "outputs": [
    {
     "data": {
      "text/plain": [
       "4.605170185988091"
      ]
     },
     "execution_count": 4,
     "metadata": {},
     "output_type": "execute_result"
    }
   ],
   "source": [
    "y = 1 #malignant tumor\n",
    "p = 0.01  # probability\n",
    "\n",
    "- (y * np.log(p) + (1 - y) * np.log(1 - p))"
   ]
  },
  {
   "cell_type": "code",
   "execution_count": 6,
   "metadata": {},
   "outputs": [
    {
     "data": {
      "text/plain": [
       "1.6094379124341005"
      ]
     },
     "execution_count": 6,
     "metadata": {},
     "output_type": "execute_result"
    }
   ],
   "source": [
    "y = 0 #benign tumor\n",
    "p = 0.80  # probability\n",
    "\n",
    "- (y * np.log(p) + (1 - y) * np.log(1 - p))"
   ]
  },
  {
   "cell_type": "code",
   "execution_count": 7,
   "metadata": {},
   "outputs": [],
   "source": [
    "data = load_breast_cancer()"
   ]
  },
  {
   "cell_type": "code",
   "execution_count": 8,
   "metadata": {},
   "outputs": [],
   "source": [
    "#invert y so that 1 is malignant and 0 is benign\n",
    "\n",
    "y = 1 - data.target\n",
    "X = data.data"
   ]
  },
  {
   "cell_type": "code",
   "execution_count": 15,
   "metadata": {},
   "outputs": [
    {
     "name": "stdout",
     "output_type": "stream",
     "text": [
      "Baseline accuracy is 0.6274165202108963\n"
     ]
    }
   ],
   "source": [
    "print('Baseline accuracy is', 1 - y.mean())\n"
   ]
  },
  {
   "cell_type": "code",
   "execution_count": 10,
   "metadata": {},
   "outputs": [],
   "source": [
    "X_train, X_test, y_train, y_test = train_test_split(X, y, random_state = 42, stratify = y)"
   ]
  },
  {
   "cell_type": "code",
   "execution_count": 11,
   "metadata": {},
   "outputs": [],
   "source": [
    "ss = StandardScaler()\n",
    "X_train_sc = ss.fit_transform(X_train)\n",
    "X_test_sc = ss.transform(X_test)"
   ]
  },
  {
   "cell_type": "code",
   "execution_count": 27,
   "metadata": {},
   "outputs": [],
   "source": [
    "model = Sequential()\n",
    "\n",
    "# 30 features so start with one layer with 30 neurons\n",
    "model.add(Dense(60, input_dim = X.shape[1], activation = 'relu'))\n",
    "model.add(Dropout(0.5))  # dropping 50% of the above neurons into next layer - good for biased test sets\n",
    "model.add(Dense(30, input_dim = X.shape[1], activation = 'relu'))\n",
    "model.add(Dense(15, input_dim = X.shape[1], activation = 'relu'))\n",
    "\n",
    "# add output layer - for binary classification: one neuron and loss function is sigmoid (log loss below as a probability)\n",
    "model.add(Dense(1, activation = 'sigmoid')) # always a must have for a binary classification\n",
    "\n",
    "model.compile(optimizer = 'adam', loss = 'binary_crossentropy', metrics = ['accuracy'])  # binary cross entropy will always be your loss for binary classification\n",
    "\n",
    "history = model.fit(X_train_sc, y_train, validation_data = (X_test_sc, y_test), epochs = 20, verbose = 0)"
   ]
  },
  {
   "cell_type": "code",
   "execution_count": 28,
   "metadata": {},
   "outputs": [
    {
     "data": {
      "text/plain": [
       "<matplotlib.legend.Legend at 0x22589e22c18>"
      ]
     },
     "execution_count": 28,
     "metadata": {},
     "output_type": "execute_result"
    },
    {
     "data": {
      "image/png": "[encoded data removed]",
      "text/plain": [
       "<matplotlib.figure.Figure at 0x225892b1e48>"
      ]
     },
     "metadata": {},
     "output_type": "display_data"
    }
   ],
   "source": [
    "plt.figure(figsize = (10,10)) # set how large the chart is\n",
    "plt.plot(history.history['loss'], label = 'Training Loss')\n",
    "plt.plot(history.history['val_loss'], label = 'Test Loss')\n",
    "plt.legend()"
   ]
  },
  {
   "cell_type": "code",
   "execution_count": 29,
   "metadata": {},
   "outputs": [
    {
     "data": {
      "text/plain": [
       "array([[1],\n",
       "       [0],\n",
       "       [1],\n",
       "       [0],\n",
       "       [0],\n",
       "       [0],\n",
       "       [0],\n",
       "       [0],\n",
       "       [0],\n",
       "       [0],\n",
       "       [1],\n",
       "       [1],\n",
       "       [0],\n",
       "       [0],\n",
       "       [1],\n",
       "       [0],\n",
       "       [0],\n",
       "       [0],\n",
       "       [0],\n",
       "       [1],\n",
       "       [0],\n",
       "       [0],\n",
       "       [0],\n",
       "       [1],\n",
       "       [1],\n",
       "       [1],\n",
       "       [1],\n",
       "       [0],\n",
       "       [0],\n",
       "       [0],\n",
       "       [0],\n",
       "       [1],\n",
       "       [0],\n",
       "       [1],\n",
       "       [0],\n",
       "       [0],\n",
       "       [0],\n",
       "       [1],\n",
       "       [0],\n",
       "       [1],\n",
       "       [0],\n",
       "       [1],\n",
       "       [0],\n",
       "       [0],\n",
       "       [1],\n",
       "       [1],\n",
       "       [0],\n",
       "       [1],\n",
       "       [0],\n",
       "       [1],\n",
       "       [1],\n",
       "       [0],\n",
       "       [1],\n",
       "       [0],\n",
       "       [0],\n",
       "       [0],\n",
       "       [0],\n",
       "       [0],\n",
       "       [0],\n",
       "       [0],\n",
       "       [1],\n",
       "       [0],\n",
       "       [0],\n",
       "       [0],\n",
       "       [0],\n",
       "       [1],\n",
       "       [0],\n",
       "       [0],\n",
       "       [0],\n",
       "       [1],\n",
       "       [0],\n",
       "       [0],\n",
       "       [0],\n",
       "       [1],\n",
       "       [0],\n",
       "       [0],\n",
       "       [0],\n",
       "       [0],\n",
       "       [0],\n",
       "       [1],\n",
       "       [1],\n",
       "       [1],\n",
       "       [0],\n",
       "       [1],\n",
       "       [0],\n",
       "       [0],\n",
       "       [0],\n",
       "       [0],\n",
       "       [1],\n",
       "       [1],\n",
       "       [1],\n",
       "       [0],\n",
       "       [1],\n",
       "       [0],\n",
       "       [0],\n",
       "       [0],\n",
       "       [0],\n",
       "       [0],\n",
       "       [0],\n",
       "       [1],\n",
       "       [0],\n",
       "       [0],\n",
       "       [0],\n",
       "       [1],\n",
       "       [1],\n",
       "       [0],\n",
       "       [1],\n",
       "       [1],\n",
       "       [0],\n",
       "       [1],\n",
       "       [0],\n",
       "       [0],\n",
       "       [0],\n",
       "       [0],\n",
       "       [1],\n",
       "       [0],\n",
       "       [1],\n",
       "       [0],\n",
       "       [0],\n",
       "       [0],\n",
       "       [0],\n",
       "       [1],\n",
       "       [0],\n",
       "       [1],\n",
       "       [0],\n",
       "       [1],\n",
       "       [1],\n",
       "       [0],\n",
       "       [0],\n",
       "       [1],\n",
       "       [1],\n",
       "       [0],\n",
       "       [0],\n",
       "       [0],\n",
       "       [0],\n",
       "       [0],\n",
       "       [0],\n",
       "       [1],\n",
       "       [1],\n",
       "       [1],\n",
       "       [0],\n",
       "       [0],\n",
       "       [0]])"
      ]
     },
     "execution_count": 29,
     "metadata": {},
     "output_type": "execute_result"
    }
   ],
   "source": [
    "model.predict_classes(X_test_sc)"
   ]
  },
  {
   "cell_type": "code",
   "execution_count": 30,
   "metadata": {},
   "outputs": [
    {
     "data": {
      "text/plain": [
       "array([[9.99911070e-01],\n",
       "       [3.64674558e-03],\n",
       "       [9.99725044e-01],\n",
       "       [2.18444605e-08],\n",
       "       [3.47579904e-02],\n",
       "       [3.27890832e-03],\n",
       "       [3.90969508e-04],\n",
       "       [1.76461844e-03],\n",
       "       [1.89349037e-02],\n",
       "       [1.17059713e-02],\n",
       "       [9.89925861e-01],\n",
       "       [9.90611017e-01],\n",
       "       [3.58836632e-03],\n",
       "       [6.81385864e-05],\n",
       "       [8.90827000e-01],\n",
       "       [1.03052380e-03],\n",
       "       [1.83445995e-03],\n",
       "       [7.42509947e-05],\n",
       "       [9.99080297e-03],\n",
       "       [9.92717266e-01],\n",
       "       [7.06823426e-04],\n",
       "       [1.26229338e-02],\n",
       "       [1.31664965e-02],\n",
       "       [9.99998689e-01],\n",
       "       [9.99994874e-01],\n",
       "       [9.96286273e-01],\n",
       "       [9.99999881e-01],\n",
       "       [3.02275806e-03],\n",
       "       [1.22578464e-01],\n",
       "       [9.57335124e-06],\n",
       "       [8.28542933e-03],\n",
       "       [9.99955773e-01],\n",
       "       [5.93485730e-03],\n",
       "       [9.88821507e-01],\n",
       "       [1.22917190e-04],\n",
       "       [1.54124093e-04],\n",
       "       [1.01667400e-02],\n",
       "       [9.99999881e-01],\n",
       "       [1.37583655e-03],\n",
       "       [1.00000000e+00],\n",
       "       [3.43606407e-05],\n",
       "       [9.99952912e-01],\n",
       "       [9.94774327e-02],\n",
       "       [4.03306440e-05],\n",
       "       [9.99996066e-01],\n",
       "       [1.00000000e+00],\n",
       "       [1.47024504e-04],\n",
       "       [9.96473134e-01],\n",
       "       [4.99485992e-04],\n",
       "       [9.99973297e-01],\n",
       "       [7.29739368e-01],\n",
       "       [1.70200408e-04],\n",
       "       [9.75184143e-01],\n",
       "       [2.37885324e-05],\n",
       "       [1.41728728e-04],\n",
       "       [6.98292220e-04],\n",
       "       [3.43051506e-04],\n",
       "       [2.60836817e-03],\n",
       "       [2.98793784e-05],\n",
       "       [1.53647197e-04],\n",
       "       [9.99989033e-01],\n",
       "       [1.00188321e-04],\n",
       "       [3.93852009e-04],\n",
       "       [4.08945198e-04],\n",
       "       [2.18870755e-05],\n",
       "       [9.99874115e-01],\n",
       "       [1.06568274e-03],\n",
       "       [4.88472134e-01],\n",
       "       [7.87727127e-04],\n",
       "       [9.99882460e-01],\n",
       "       [2.78761634e-03],\n",
       "       [4.81192956e-06],\n",
       "       [7.06698978e-03],\n",
       "       [9.87934589e-01],\n",
       "       [8.12952858e-05],\n",
       "       [1.92363863e-03],\n",
       "       [2.04462096e-01],\n",
       "       [4.54594987e-03],\n",
       "       [2.73240352e-04],\n",
       "       [9.98215973e-01],\n",
       "       [9.33053792e-01],\n",
       "       [9.93399143e-01],\n",
       "       [4.71718073e-01],\n",
       "       [1.00000000e+00],\n",
       "       [5.30563557e-05],\n",
       "       [1.74632389e-03],\n",
       "       [3.20243940e-04],\n",
       "       [2.51326081e-03],\n",
       "       [9.99995947e-01],\n",
       "       [9.99935269e-01],\n",
       "       [9.99999762e-01],\n",
       "       [1.41117969e-04],\n",
       "       [5.45847654e-01],\n",
       "       [3.61472543e-04],\n",
       "       [4.23871796e-04],\n",
       "       [1.48160922e-04],\n",
       "       [2.97736526e-02],\n",
       "       [2.09838865e-04],\n",
       "       [7.31387921e-03],\n",
       "       [9.99997020e-01],\n",
       "       [1.03855748e-02],\n",
       "       [3.58501240e-03],\n",
       "       [1.74638059e-04],\n",
       "       [9.99827206e-01],\n",
       "       [9.89205837e-01],\n",
       "       [4.21753968e-04],\n",
       "       [9.99996185e-01],\n",
       "       [9.99999166e-01],\n",
       "       [8.68364295e-05],\n",
       "       [9.98031437e-01],\n",
       "       [1.02469733e-03],\n",
       "       [4.14052233e-02],\n",
       "       [2.97009666e-02],\n",
       "       [4.86187520e-04],\n",
       "       [1.00000000e+00],\n",
       "       [2.67433352e-04],\n",
       "       [9.99086022e-01],\n",
       "       [1.98499238e-05],\n",
       "       [2.42503639e-03],\n",
       "       [8.03629518e-05],\n",
       "       [8.27347219e-04],\n",
       "       [9.99977350e-01],\n",
       "       [9.06515308e-03],\n",
       "       [9.63959932e-01],\n",
       "       [1.21333823e-03],\n",
       "       [1.00000000e+00],\n",
       "       [9.99970675e-01],\n",
       "       [1.53574068e-02],\n",
       "       [8.57555959e-03],\n",
       "       [9.99928236e-01],\n",
       "       [9.96324956e-01],\n",
       "       [2.28518352e-01],\n",
       "       [3.74775277e-06],\n",
       "       [1.68492668e-04],\n",
       "       [3.17375585e-02],\n",
       "       [1.79882795e-01],\n",
       "       [1.07858761e-03],\n",
       "       [9.89101708e-01],\n",
       "       [9.99715149e-01],\n",
       "       [9.96886075e-01],\n",
       "       [3.30384642e-01],\n",
       "       [1.83196185e-04],\n",
       "       [6.48013520e-05]], dtype=float32)"
      ]
     },
     "execution_count": 30,
     "metadata": {},
     "output_type": "execute_result"
    }
   ],
   "source": [
    "model.predict_proba(X_test_sc) # to make predictions"
   ]
  },
  {
   "cell_type": "markdown",
   "metadata": {},
   "source": [
    "# Multi-class Classification - dog, cat, fish or 3 species of irises"
   ]
  },
  {
   "cell_type": "code",
   "execution_count": 36,
   "metadata": {},
   "outputs": [],
   "source": [
    "X = data.data\n",
    "y = to_categorical(data.target)  # needed for neural networks for multi class problems because of loss functions"
   ]
  },
  {
   "cell_type": "code",
   "execution_count": 37,
   "metadata": {},
   "outputs": [],
   "source": [
    "X_train, X_test, y_train, y_test = train_test_split(X, y, random_state = 42, stratify = y)"
   ]
  },
  {
   "cell_type": "code",
   "execution_count": 38,
   "metadata": {},
   "outputs": [],
   "source": [
    "ss = StandardScaler()\n",
    "X_train_sc = ss.fit_transform(X_train)\n",
    "X_test_sc = ss.transform(X_test)"
   ]
  },
  {
   "cell_type": "code",
   "execution_count": 40,
   "metadata": {},
   "outputs": [
    {
     "ename": "ValueError",
     "evalue": "Error when checking target: expected dense_31 to have shape (3,) but got array with shape (2,)",
     "output_type": "error",
     "traceback": [
      "\u001b[1;31m---------------------------------------------------------------------------\u001b[0m",
      "\u001b[1;31mValueError\u001b[0m                                Traceback (most recent call last)",
      "\u001b[1;32m<ipython-input-40-9349785400d3>\u001b[0m in \u001b[0;36m<module>\u001b[1;34m()\u001b[0m\n\u001b[0;32m     11\u001b[0m \u001b[0mmodel\u001b[0m\u001b[1;33m.\u001b[0m\u001b[0mcompile\u001b[0m\u001b[1;33m(\u001b[0m\u001b[0moptimizer\u001b[0m \u001b[1;33m=\u001b[0m \u001b[1;34m'adam'\u001b[0m\u001b[1;33m,\u001b[0m \u001b[0mloss\u001b[0m \u001b[1;33m=\u001b[0m \u001b[1;34m'categorical_crossentropy'\u001b[0m\u001b[1;33m,\u001b[0m \u001b[0mmetrics\u001b[0m \u001b[1;33m=\u001b[0m \u001b[1;33m[\u001b[0m\u001b[1;34m'accuracy'\u001b[0m\u001b[1;33m]\u001b[0m\u001b[1;33m)\u001b[0m\u001b[1;33m\u001b[0m\u001b[0m\n\u001b[0;32m     12\u001b[0m \u001b[1;33m\u001b[0m\u001b[0m\n\u001b[1;32m---> 13\u001b[1;33m \u001b[0mmodel\u001b[0m\u001b[1;33m.\u001b[0m\u001b[0mfit\u001b[0m\u001b[1;33m(\u001b[0m\u001b[0mX_train_sc\u001b[0m\u001b[1;33m,\u001b[0m \u001b[0my_train\u001b[0m\u001b[1;33m,\u001b[0m \u001b[0mvalidation_data\u001b[0m \u001b[1;33m=\u001b[0m \u001b[1;33m(\u001b[0m\u001b[0mX_test_sc\u001b[0m\u001b[1;33m,\u001b[0m \u001b[0my_test\u001b[0m\u001b[1;33m)\u001b[0m\u001b[1;33m,\u001b[0m \u001b[0mepochs\u001b[0m \u001b[1;33m=\u001b[0m \u001b[1;36m20\u001b[0m\u001b[1;33m,\u001b[0m \u001b[0mverbose\u001b[0m \u001b[1;33m=\u001b[0m \u001b[1;36m1\u001b[0m\u001b[1;33m)\u001b[0m\u001b[1;33m\u001b[0m\u001b[0m\n\u001b[0m",
      "\u001b[1;32m~\\Anaconda3\\envs\\tensorflow\\lib\\site-packages\\keras\\models.py\u001b[0m in \u001b[0;36mfit\u001b[1;34m(self, x, y, batch_size, epochs, verbose, callbacks, validation_split, validation_data, shuffle, class_weight, sample_weight, initial_epoch, steps_per_epoch, validation_steps, **kwargs)\u001b[0m\n\u001b[0;32m    961\u001b[0m                               \u001b[0minitial_epoch\u001b[0m\u001b[1;33m=\u001b[0m\u001b[0minitial_epoch\u001b[0m\u001b[1;33m,\u001b[0m\u001b[1;33m\u001b[0m\u001b[0m\n\u001b[0;32m    962\u001b[0m                               \u001b[0msteps_per_epoch\u001b[0m\u001b[1;33m=\u001b[0m\u001b[0msteps_per_epoch\u001b[0m\u001b[1;33m,\u001b[0m\u001b[1;33m\u001b[0m\u001b[0m\n\u001b[1;32m--> 963\u001b[1;33m                               validation_steps=validation_steps)\n\u001b[0m\u001b[0;32m    964\u001b[0m \u001b[1;33m\u001b[0m\u001b[0m\n\u001b[0;32m    965\u001b[0m     def evaluate(self, x=None, y=None,\n",
      "\u001b[1;32m~\\Anaconda3\\envs\\tensorflow\\lib\\site-packages\\keras\\engine\\training.py\u001b[0m in \u001b[0;36mfit\u001b[1;34m(self, x, y, batch_size, epochs, verbose, callbacks, validation_split, validation_data, shuffle, class_weight, sample_weight, initial_epoch, steps_per_epoch, validation_steps, **kwargs)\u001b[0m\n\u001b[0;32m   1635\u001b[0m             \u001b[0msample_weight\u001b[0m\u001b[1;33m=\u001b[0m\u001b[0msample_weight\u001b[0m\u001b[1;33m,\u001b[0m\u001b[1;33m\u001b[0m\u001b[0m\n\u001b[0;32m   1636\u001b[0m             \u001b[0mclass_weight\u001b[0m\u001b[1;33m=\u001b[0m\u001b[0mclass_weight\u001b[0m\u001b[1;33m,\u001b[0m\u001b[1;33m\u001b[0m\u001b[0m\n\u001b[1;32m-> 1637\u001b[1;33m             batch_size=batch_size)\n\u001b[0m\u001b[0;32m   1638\u001b[0m         \u001b[1;31m# Prepare validation data.\u001b[0m\u001b[1;33m\u001b[0m\u001b[1;33m\u001b[0m\u001b[0m\n\u001b[0;32m   1639\u001b[0m         \u001b[0mdo_validation\u001b[0m \u001b[1;33m=\u001b[0m \u001b[1;32mFalse\u001b[0m\u001b[1;33m\u001b[0m\u001b[0m\n",
      "\u001b[1;32m~\\Anaconda3\\envs\\tensorflow\\lib\\site-packages\\keras\\engine\\training.py\u001b[0m in \u001b[0;36m_standardize_user_data\u001b[1;34m(self, x, y, sample_weight, class_weight, check_array_lengths, batch_size)\u001b[0m\n\u001b[0;32m   1485\u001b[0m                                     \u001b[0moutput_shapes\u001b[0m\u001b[1;33m,\u001b[0m\u001b[1;33m\u001b[0m\u001b[0m\n\u001b[0;32m   1486\u001b[0m                                     \u001b[0mcheck_batch_axis\u001b[0m\u001b[1;33m=\u001b[0m\u001b[1;32mFalse\u001b[0m\u001b[1;33m,\u001b[0m\u001b[1;33m\u001b[0m\u001b[0m\n\u001b[1;32m-> 1487\u001b[1;33m                                     exception_prefix='target')\n\u001b[0m\u001b[0;32m   1488\u001b[0m         sample_weights = _standardize_sample_weights(sample_weight,\n\u001b[0;32m   1489\u001b[0m                                                      self._feed_output_names)\n",
      "\u001b[1;32m~\\Anaconda3\\envs\\tensorflow\\lib\\site-packages\\keras\\engine\\training.py\u001b[0m in \u001b[0;36m_standardize_input_data\u001b[1;34m(data, names, shapes, check_batch_axis, exception_prefix)\u001b[0m\n\u001b[0;32m    121\u001b[0m                             \u001b[1;34m': expected '\u001b[0m \u001b[1;33m+\u001b[0m \u001b[0mnames\u001b[0m\u001b[1;33m[\u001b[0m\u001b[0mi\u001b[0m\u001b[1;33m]\u001b[0m \u001b[1;33m+\u001b[0m \u001b[1;34m' to have shape '\u001b[0m \u001b[1;33m+\u001b[0m\u001b[1;33m\u001b[0m\u001b[0m\n\u001b[0;32m    122\u001b[0m                             \u001b[0mstr\u001b[0m\u001b[1;33m(\u001b[0m\u001b[0mshape\u001b[0m\u001b[1;33m)\u001b[0m \u001b[1;33m+\u001b[0m \u001b[1;34m' but got array with shape '\u001b[0m \u001b[1;33m+\u001b[0m\u001b[1;33m\u001b[0m\u001b[0m\n\u001b[1;32m--> 123\u001b[1;33m                             str(data_shape))\n\u001b[0m\u001b[0;32m    124\u001b[0m     \u001b[1;32mreturn\u001b[0m \u001b[0mdata\u001b[0m\u001b[1;33m\u001b[0m\u001b[0m\n\u001b[0;32m    125\u001b[0m \u001b[1;33m\u001b[0m\u001b[0m\n",
      "\u001b[1;31mValueError\u001b[0m: Error when checking target: expected dense_31 to have shape (3,) but got array with shape (2,)"
     ]
    }
   ],
   "source": [
    "model = Sequential()\n",
    "\n",
    "# 4 features\n",
    "model.add(Dense(4, input_dim = X_train.shape[1], activation = 'relu'))\n",
    "\n",
    "# regression - 1 neuron, no activation\n",
    "# binary class - 1 neuron, sigmoid activation\n",
    "# for multi-class need same # of neurons for classes so 3 in this example and activation of softmax\n",
    "model.add(Dense(3, activation = 'softmax'))\n",
    "\n",
    "model.compile(optimizer = 'adam', loss = 'categorical_crossentropy', metrics = ['accuracy'])\n",
    "\n",
    "model.fit(X_train_sc, y_train, validation_data = (X_test_sc, y_test), epochs = 20, verbose = 1)"
   ]
  },
  {
   "cell_type": "code",
   "execution_count": null,
   "metadata": {},
   "outputs": [],
   "source": []
  }
 ],
 "metadata": {
  "kernelspec": {
   "display_name": "Python [conda env:tensorflow]",
   "language": "python",
   "name": "conda-env-tensorflow-py"
  },
  "language_info": {
   "codemirror_mode": {
    "name": "ipython",
    "version": 3
   },
   "file_extension": ".py",
   "mimetype": "text/x-python",
   "name": "python",
   "nbconvert_exporter": "python",
   "pygments_lexer": "ipython3",
   "version": "3.6.4"
  }
 },
 "nbformat": 4,
 "nbformat_minor": 2
}
