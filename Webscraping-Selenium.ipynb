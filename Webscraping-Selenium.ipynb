{
 "cells": [
  {
   "cell_type": "code",
   "execution_count": 4,
   "metadata": {
    "collapsed": true
   },
   "outputs": [],
   "source": [
    "import pandas as pd, seaborn as sns\n",
    "from selenium import webdriver\n",
    "from bs4 import BeautifulSoup\n",
    "import requests\n",
    "\n",
    "%matplotlib inline"
   ]
  },
  {
   "cell_type": "code",
   "execution_count": 3,
   "metadata": {},
   "outputs": [],
   "source": [
    "path_to_chromedriver = '/Users/aggie/Downloads/chromedriver'\n",
    "browser = webdriver.Chrome(executable_path = path_to_chromedriver)"
   ]
  },
  {
   "cell_type": "code",
   "execution_count": 6,
   "metadata": {},
   "outputs": [
    {
     "data": {
      "text/plain": [
       "<Response [200]>"
      ]
     },
     "execution_count": 6,
     "metadata": {},
     "output_type": "execute_result"
    }
   ],
   "source": [
    "results = requests.get(\"http://stats.nba.com/leaders/\")\n",
    "results"
   ]
  },
  {
   "cell_type": "code",
   "execution_count": 8,
   "metadata": {},
   "outputs": [],
   "source": [
    "browser.get(\"http://stats.nba.com/leaders/\")"
   ]
  },
  {
   "cell_type": "code",
   "execution_count": 10,
   "metadata": {},
   "outputs": [],
   "source": [
    "html = browser.page_source\n",
    "soup = BeautifulSoup(html, \"lxml\")"
   ]
  },
  {
   "cell_type": "code",
   "execution_count": 11,
   "metadata": {},
   "outputs": [
    {
     "data": {
      "text/plain": [
       "[<td class=\"player\"><a href=\"/player/201935/traditional/\">James Harden</a></td>,\n",
       " <td class=\"player\"><a href=\"/player/203507/traditional/\">Giannis Antetokounmpo</a></td>,\n",
       " <td class=\"player\"><a href=\"/player/203076/traditional/\">Anthony Davis</a></td>,\n",
       " <td class=\"player\"><a href=\"/player/201939/traditional/\">Stephen Curry</a></td>,\n",
       " <td class=\"player\"><a href=\"/player/2544/traditional/\">LeBron James</a></td>,\n",
       " <td class=\"player\"><a href=\"/player/203081/traditional/\">Damian Lillard</a></td>,\n",
       " <td class=\"player\"><a href=\"/player/201142/traditional/\">Kevin Durant</a></td>,\n",
       " <td class=\"player\"><a href=\"/player/201566/traditional/\">Russell Westbrook</a></td>,\n",
       " <td class=\"player\"><a href=\"/player/202326/traditional/\">DeMarcus Cousins</a></td>,\n",
       " <td class=\"player\"><a href=\"/player/202681/traditional/\">Kyrie Irving</a></td>,\n",
       " <td class=\"player\"><a href=\"/player/203506/traditional/\">Victor Oladipo</a></td>,\n",
       " <td class=\"player\"><a href=\"/player/1626164/traditional/\">Devin Booker</a></td>,\n",
       " <td class=\"player\"><a href=\"/player/201942/traditional/\">DeMar DeRozan</a></td>,\n",
       " <td class=\"player\"><a href=\"/player/203954/traditional/\">Joel Embiid</a></td>,\n",
       " <td class=\"player\"><a href=\"/player/203078/traditional/\">Bradley Beal</a></td>,\n",
       " <td class=\"player\"><a href=\"/player/101150/traditional/\">Lou Williams</a></td>,\n",
       " <td class=\"player\"><a href=\"/player/202689/traditional/\">Kemba Walker</a></td>,\n",
       " <td class=\"player\"><a href=\"/player/204001/traditional/\">Kristaps Porzingis</a></td>,\n",
       " <td class=\"player\"><a href=\"/player/202331/traditional/\">Paul George</a></td>,\n",
       " <td class=\"player\"><a href=\"/player/202710/traditional/\">Jimmy Butler</a></td>,\n",
       " <td class=\"player\"><a href=\"/player/200746/traditional/\">LaMarcus Aldridge</a></td>,\n",
       " <td class=\"player\"><a href=\"/player/201933/traditional/\">Blake Griffin</a></td>,\n",
       " <td class=\"player\"><a href=\"/player/203468/traditional/\">CJ McCollum</a></td>,\n",
       " <td class=\"player\"><a href=\"/player/1626157/traditional/\">Karl-Anthony Towns</a></td>,\n",
       " <td class=\"player\"><a href=\"/player/202691/traditional/\">Klay Thompson</a></td>,\n",
       " <td class=\"player\"><a href=\"/player/203114/traditional/\">Khris Middleton</a></td>,\n",
       " <td class=\"player\"><a href=\"/player/1628378/traditional/\">Donovan Mitchell</a></td>,\n",
       " <td class=\"player\"><a href=\"/player/203471/traditional/\">Dennis Schroder</a></td>,\n",
       " <td class=\"player\"><a href=\"/player/201936/traditional/\">Tyreke Evans</a></td>,\n",
       " <td class=\"player\"><a href=\"/player/203933/traditional/\">TJ Warren</a></td>,\n",
       " <td class=\"player\"><a href=\"/player/201950/traditional/\">Jrue Holiday</a></td>,\n",
       " <td class=\"player\"><a href=\"/player/201569/traditional/\">Eric Gordon</a></td>,\n",
       " <td class=\"player\"><a href=\"/player/203084/traditional/\">Harrison Barnes</a></td>,\n",
       " <td class=\"player\"><a href=\"/player/202699/traditional/\">Tobias Harris</a></td>,\n",
       " <td class=\"player\"><a href=\"/player/203095/traditional/\">Evan Fournier</a></td>,\n",
       " <td class=\"player\"><a href=\"/player/201567/traditional/\">Kevin Love</a></td>,\n",
       " <td class=\"player\"><a href=\"/player/201188/traditional/\">Marc Gasol</a></td>,\n",
       " <td class=\"player\"><a href=\"/player/203952/traditional/\">Andrew Wiggins</a></td>,\n",
       " <td class=\"player\"><a href=\"/player/203914/traditional/\">Gary Harris</a></td>,\n",
       " <td class=\"player\"><a href=\"/player/201609/traditional/\">Goran Dragic</a></td>,\n",
       " <td class=\"player\"><a href=\"/player/202339/traditional/\">Eric Bledsoe</a></td>,\n",
       " <td class=\"player\"><a href=\"/player/2546/traditional/\">Carmelo Anthony</a></td>,\n",
       " <td class=\"player\"><a href=\"/player/203999/traditional/\">Nikola Jokic</a></td>,\n",
       " <td class=\"player\"><a href=\"/player/200755/traditional/\">JJ Redick</a></td>,\n",
       " <td class=\"player\"><a href=\"/player/203918/traditional/\">Rodney Hood</a></td>,\n",
       " <td class=\"player\"><a href=\"/player/200768/traditional/\">Kyle Lowry</a></td>,\n",
       " <td class=\"player\"><a href=\"/player/1627750/traditional/\">Jamal Murray</a></td>,\n",
       " <td class=\"player\"><a href=\"/player/1627732/traditional/\">Ben Simmons</a></td>,\n",
       " <td class=\"player\"><a href=\"/player/1627742/traditional/\">Brandon Ingram</a></td>,\n",
       " <td class=\"player\"><a href=\"/player/2730/traditional/\">Dwight Howard</a></td>,\n",
       " <td class=\"player\"><a href=\"/player/201935/traditional/\">James Harden</a></td>,\n",
       " <td class=\"player\"><a href=\"/player/203507/traditional/\">Giannis Antetokounmpo</a></td>,\n",
       " <td class=\"player\"><a href=\"/player/203076/traditional/\">Anthony Davis</a></td>,\n",
       " <td class=\"player\"><a href=\"/player/201939/traditional/\">Stephen Curry</a></td>,\n",
       " <td class=\"player\"><a href=\"/player/2544/traditional/\">LeBron James</a></td>,\n",
       " <td class=\"player\"><a href=\"/player/203081/traditional/\">Damian Lillard</a></td>,\n",
       " <td class=\"player\"><a href=\"/player/201142/traditional/\">Kevin Durant</a></td>,\n",
       " <td class=\"player\"><a href=\"/player/201566/traditional/\">Russell Westbrook</a></td>,\n",
       " <td class=\"player\"><a href=\"/player/202326/traditional/\">DeMarcus Cousins</a></td>,\n",
       " <td class=\"player\"><a href=\"/player/202681/traditional/\">Kyrie Irving</a></td>,\n",
       " <td class=\"player\"><a href=\"/player/203506/traditional/\">Victor Oladipo</a></td>,\n",
       " <td class=\"player\"><a href=\"/player/1626164/traditional/\">Devin Booker</a></td>,\n",
       " <td class=\"player\"><a href=\"/player/201942/traditional/\">DeMar DeRozan</a></td>,\n",
       " <td class=\"player\"><a href=\"/player/203954/traditional/\">Joel Embiid</a></td>,\n",
       " <td class=\"player\"><a href=\"/player/203078/traditional/\">Bradley Beal</a></td>,\n",
       " <td class=\"player\"><a href=\"/player/101150/traditional/\">Lou Williams</a></td>,\n",
       " <td class=\"player\"><a href=\"/player/202689/traditional/\">Kemba Walker</a></td>,\n",
       " <td class=\"player\"><a href=\"/player/204001/traditional/\">Kristaps Porzingis</a></td>,\n",
       " <td class=\"player\"><a href=\"/player/202331/traditional/\">Paul George</a></td>,\n",
       " <td class=\"player\"><a href=\"/player/202710/traditional/\">Jimmy Butler</a></td>,\n",
       " <td class=\"player\"><a href=\"/player/200746/traditional/\">LaMarcus Aldridge</a></td>,\n",
       " <td class=\"player\"><a href=\"/player/201933/traditional/\">Blake Griffin</a></td>,\n",
       " <td class=\"player\"><a href=\"/player/203468/traditional/\">CJ McCollum</a></td>,\n",
       " <td class=\"player\"><a href=\"/player/1626157/traditional/\">Karl-Anthony Towns</a></td>,\n",
       " <td class=\"player\"><a href=\"/player/202691/traditional/\">Klay Thompson</a></td>,\n",
       " <td class=\"player\"><a href=\"/player/203114/traditional/\">Khris Middleton</a></td>,\n",
       " <td class=\"player\"><a href=\"/player/1628378/traditional/\">Donovan Mitchell</a></td>,\n",
       " <td class=\"player\"><a href=\"/player/203471/traditional/\">Dennis Schroder</a></td>,\n",
       " <td class=\"player\"><a href=\"/player/201936/traditional/\">Tyreke Evans</a></td>,\n",
       " <td class=\"player\"><a href=\"/player/203933/traditional/\">TJ Warren</a></td>,\n",
       " <td class=\"player\"><a href=\"/player/201950/traditional/\">Jrue Holiday</a></td>,\n",
       " <td class=\"player\"><a href=\"/player/201569/traditional/\">Eric Gordon</a></td>,\n",
       " <td class=\"player\"><a href=\"/player/203084/traditional/\">Harrison Barnes</a></td>,\n",
       " <td class=\"player\"><a href=\"/player/202699/traditional/\">Tobias Harris</a></td>,\n",
       " <td class=\"player\"><a href=\"/player/203095/traditional/\">Evan Fournier</a></td>,\n",
       " <td class=\"player\"><a href=\"/player/201567/traditional/\">Kevin Love</a></td>,\n",
       " <td class=\"player\"><a href=\"/player/201188/traditional/\">Marc Gasol</a></td>,\n",
       " <td class=\"player\"><a href=\"/player/203952/traditional/\">Andrew Wiggins</a></td>,\n",
       " <td class=\"player\"><a href=\"/player/203914/traditional/\">Gary Harris</a></td>,\n",
       " <td class=\"player\"><a href=\"/player/201609/traditional/\">Goran Dragic</a></td>,\n",
       " <td class=\"player\"><a href=\"/player/202339/traditional/\">Eric Bledsoe</a></td>,\n",
       " <td class=\"player\"><a href=\"/player/2546/traditional/\">Carmelo Anthony</a></td>,\n",
       " <td class=\"player\"><a href=\"/player/203999/traditional/\">Nikola Jokic</a></td>,\n",
       " <td class=\"player\"><a href=\"/player/200755/traditional/\">JJ Redick</a></td>,\n",
       " <td class=\"player\"><a href=\"/player/203918/traditional/\">Rodney Hood</a></td>,\n",
       " <td class=\"player\"><a href=\"/player/200768/traditional/\">Kyle Lowry</a></td>,\n",
       " <td class=\"player\"><a href=\"/player/1627750/traditional/\">Jamal Murray</a></td>,\n",
       " <td class=\"player\"><a href=\"/player/1627732/traditional/\">Ben Simmons</a></td>,\n",
       " <td class=\"player\"><a href=\"/player/1627742/traditional/\">Brandon Ingram</a></td>,\n",
       " <td class=\"player\"><a href=\"/player/2730/traditional/\">Dwight Howard</a></td>]"
      ]
     },
     "execution_count": 11,
     "metadata": {},
     "output_type": "execute_result"
    }
   ],
   "source": [
    "soup.find_all(\"td\", {\"class\": \"player\"})"
   ]
  },
  {
   "cell_type": "code",
   "execution_count": 13,
   "metadata": {},
   "outputs": [],
   "source": [
    "button = browser.find_element_by_class_name(\"stats-table-pagination__next\")  #right clicking on the button"
   ]
  },
  {
   "cell_type": "code",
   "execution_count": 16,
   "metadata": {},
   "outputs": [],
   "source": [
    "button.click() #clicks button on the pop-up browswer"
   ]
  },
  {
   "cell_type": "code",
   "execution_count": 18,
   "metadata": {},
   "outputs": [],
   "source": [
    "xpath_button = browser.find_element_by_xpath(\"/html/body/main/div[2]/div/div[2]/div/div/nba-stat-table/div[1]/div/div/a[2]\")"
   ]
  },
  {
   "cell_type": "code",
   "execution_count": 19,
   "metadata": {
    "collapsed": true
   },
   "outputs": [],
   "source": [
    "xpath_button.click()"
   ]
  },
  {
   "cell_type": "code",
   "execution_count": 21,
   "metadata": {},
   "outputs": [
    {
     "data": {
      "text/plain": [
       "<Response [200]>"
      ]
     },
     "execution_count": 21,
     "metadata": {},
     "output_type": "execute_result"
    }
   ],
   "source": [
    "requests.get(\"https://www.reddit.com/r/gifs/\")  #429 code error"
   ]
  },
  {
   "cell_type": "code",
   "execution_count": 22,
   "metadata": {
    "collapsed": true
   },
   "outputs": [],
   "source": [
    "browser.get(\"https://www.reddit.com/r/gifs/\")"
   ]
  },
  {
   "cell_type": "code",
   "execution_count": 28,
   "metadata": {},
   "outputs": [
    {
     "name": "stdout",
     "output_type": "stream",
     "text": [
      "dhtn6br  spilcm Looks supercool! \n",
      "dcibwjg  spilcm good idea. thanks. :)\n",
      "dcibval  spilcm changed the text to \"Find Concerts, Tour dates, &amp; Tickets\" to make it more clear. \n",
      "\n",
      "\n",
      "dcibq1l  spilcm Interesting idea to use the  'I'm Feeling Lucky' concept.  I'm not sure though how to implement it...\n",
      "dcibl9f  spilcm Thanks for the great suggestions. I'll definitely use some of them. \n",
      "\n",
      "dcfk3ug  spilcm @RookiesCha0, thanks for the feedback. \n",
      "I just spent some time on the website to improve things. First off, and perhaps the most important thing was indeed to make the coverart 'clickable'. That is now working. \n",
      "The shows (and coverart) that appears on the website is dynamically taken from the TMDB API. The TV Popular , Top Rated TV shows etc are based on ratings (not picked by me). \n",
      "\n",
      "I have concatenated pages (each page is up to 20 entries) as a workaround for pagination. \n",
      "\n",
      "\n",
      "dccage0  spilcm Yeah I wanted to do that as well, but couldn't find it in the API.\n",
      "cxz0xn4  spilcm This great for a novice like me :)\n",
      "cxz0us6  spilcm Updated! \n",
      "cxmssj6  spilcm Looks good! Do you use any API to scrape the information?\n",
      "cxlm9mt  spilcm Sorry for that. \n",
      "cxku2k2  spilcm was just starting to pick up Django again, looks like a good timing. :)\n",
      "cxhwj6q  spilcm http://www.whyineedajob.com/ - for finding cool gadgets\n",
      "http://searchconcert.com/ - for finding available concert tickets\n",
      "http://tvlistr.com/  - for TV shows thats airing today\n",
      "\n",
      "cxhqtfp  spilcm Thanks. I'm using the API from TMDB.\n",
      "cxcj4df  spilcm Pretty neat!\n",
      "cu1ct2j  spilcm Thanks jwjody, I have updated the posts to use the Requests built-in decoder instead of the JSON module. \n",
      "cu0q6sh  spilcm Thanks for posting this. Today I added a new post on how to setup a VPS with nginx on it. (We need nginx later on to serve the Flask application.)\n",
      "cu0q0g0  spilcm The Flask portion of the tutorial is on its way :)\n",
      "cu0cl6s  spilcm You could try to create a sanitize function. Something like this should do it:\n",
      "\n",
      "def sanitize(str):\n",
      "    return str.encode('ascii','ignore')\n",
      "\n",
      "cty7s4j  spilcm I'm a huge fan of Django, but for this small project, I went with Flask. \n",
      "ctaqh66  spilcm Thanks for all the work! Is there a way to enable the function to apply patches from the UI?\n",
      "\n",
      "\n",
      "csigm2y  spilcm Thanks for the feedback. I will definitely do that. \n",
      "cshd5xp  spilcm You are right. I am actually writing one, but it takes some time considering all 40+ services AWS is offering ;)\n",
      "\n",
      "cshapwz  spilcm Aws provide excellent documentation and guides, but it can also be a bit overwhelming for beginners. I'll try to make it a bit clearer.\n",
      "ckg9lk4  spilcm I may have a bit of a bias of python, so any suggestion of Ruby (or anything else) are \n",
      "very welcome. :)\n"
     ]
    }
   ],
   "source": [
    "import requests\n",
    "import json\n",
    "\n",
    "r = requests.get(r'http://www.reddit.com/user/spilcm/comments/.json')\n",
    "\n",
    "r.text\n",
    "\n",
    "data = r.json()\n",
    "\n",
    "for child in data['data']['children']:\n",
    "    print (child['data']['id'], \"\", child['data']['author'],child['data']['body'])\n",
    "    \n",
    "    print"
   ]
  },
  {
   "cell_type": "code",
   "execution_count": null,
   "metadata": {
    "collapsed": true
   },
   "outputs": [],
   "source": []
  }
 ],
 "metadata": {
  "kernelspec": {
   "display_name": "Python 3",
   "language": "python",
   "name": "python3"
  },
  "language_info": {
   "codemirror_mode": {
    "name": "ipython",
    "version": 3
   },
   "file_extension": ".py",
   "mimetype": "text/x-python",
   "name": "python",
   "nbconvert_exporter": "python",
   "pygments_lexer": "ipython3",
   "version": "3.6.3"
  }
 },
 "nbformat": 4,
 "nbformat_minor": 2
}
